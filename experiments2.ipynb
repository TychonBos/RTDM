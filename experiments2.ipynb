{
 "cells": [
  {
   "cell_type": "markdown",
   "metadata": {},
   "source": [
    "# This notebook implements all the experimentats"
   ]
  },
  {
   "cell_type": "code",
   "execution_count": 1,
   "metadata": {},
   "outputs": [
    {
     "name": "stdout",
     "output_type": "stream",
     "text": [
      "WARNING:tensorflow:There are non-GPU devices in `tf.distribute.Strategy`, not using nccl allreduce.\n",
      "INFO:tensorflow:Using MirroredStrategy with devices ('/job:localhost/replica:0/task:0/device:CPU:0',)\n",
      "WARNING:tensorflow:Mixed precision compatibility check (mixed_float16): WARNING\n",
      "The dtype policy mixed_float16 may run slowly because this machine does not have a GPU. Only Nvidia GPUs with compute capability of at least 7.0 run quickly with mixed_float16.\n",
      "If you will use compatible GPU(s) not attached to this host, e.g. by running a multi-worker model, you can ignore this warning. This message will only be logged once\n"
     ]
    }
   ],
   "source": [
    "# Automatically re-import files when updated\n",
    "%load_ext autoreload\n",
    "%autoreload 2  \n",
    "# Load packages\n",
    "from models2 import block\n",
    "from utils import *\n",
    "from train import run\n",
    "from evaluate import evaluate\n",
    "from matplotlib import pyplot as plt\n",
    "import time, json"
   ]
  },
  {
   "cell_type": "markdown",
   "metadata": {},
   "source": [
    "# Run and evaluate"
   ]
  },
  {
   "cell_type": "code",
   "execution_count": 3,
   "metadata": {},
   "outputs": [
    {
     "ename": "ValueError",
     "evalue": "too many values to unpack (expected 2)",
     "output_type": "error",
     "traceback": [
      "\u001b[1;31m---------------------------------------------------------------------------\u001b[0m",
      "\u001b[1;31mValueError\u001b[0m                                Traceback (most recent call last)",
      "\u001b[1;32mc:\\Users\\Thijs\\OneDrive\\Programming\\University\\RTDM\\experiments.ipynb Cell 4\u001b[0m line \u001b[0;36m1\n\u001b[0;32m      <a href='vscode-notebook-cell:/c%3A/Users/Thijs/OneDrive/Programming/University/RTDM/experiments.ipynb#W3sZmlsZQ%3D%3D?line=8'>9</a>\u001b[0m \u001b[39m# Loop over parameters\u001b[39;00m\n\u001b[0;32m     <a href='vscode-notebook-cell:/c%3A/Users/Thijs/OneDrive/Programming/University/RTDM/experiments.ipynb#W3sZmlsZQ%3D%3D?line=9'>10</a>\u001b[0m results \u001b[39m=\u001b[39m {}\n\u001b[1;32m---> <a href='vscode-notebook-cell:/c%3A/Users/Thijs/OneDrive/Programming/University/RTDM/experiments.ipynb#W3sZmlsZQ%3D%3D?line=10'>11</a>\u001b[0m \u001b[39mfor\u001b[39;00m i, ((((X_train, y_train), (X_test, y_test)), adv_attack), epsilon) \u001b[39min\u001b[39;00m \u001b[39menumerate\u001b[39m(params):\n\u001b[0;32m     <a href='vscode-notebook-cell:/c%3A/Users/Thijs/OneDrive/Programming/University/RTDM/experiments.ipynb#W3sZmlsZQ%3D%3D?line=11'>12</a>\u001b[0m     \u001b[39m# Report current iteration\u001b[39;00m\n\u001b[0;32m     <a href='vscode-notebook-cell:/c%3A/Users/Thijs/OneDrive/Programming/University/RTDM/experiments.ipynb#W3sZmlsZQ%3D%3D?line=12'>13</a>\u001b[0m     dataname \u001b[39m=\u001b[39m \u001b[39m\"\u001b[39m\u001b[39mMNIST\u001b[39m\u001b[39m\"\u001b[39m \u001b[39mif\u001b[39;00m i \u001b[39m<\u001b[39m \u001b[39m4\u001b[39m \u001b[39melse\u001b[39;00m \u001b[39m\"\u001b[39m\u001b[39mFMNIST\u001b[39m\u001b[39m\"\u001b[39m \u001b[39mif\u001b[39;00m i \u001b[39m<\u001b[39m \u001b[39m8\u001b[39m \u001b[39melse\u001b[39;00m \u001b[39m\"\u001b[39m\u001b[39mCIFAR\u001b[39m\u001b[39m\"\u001b[39m\n\u001b[0;32m     <a href='vscode-notebook-cell:/c%3A/Users/Thijs/OneDrive/Programming/University/RTDM/experiments.ipynb#W3sZmlsZQ%3D%3D?line=13'>14</a>\u001b[0m     current \u001b[39m=\u001b[39m \u001b[39mf\u001b[39m\u001b[39m\"\u001b[39m\u001b[39m{\u001b[39;00madv_attack\u001b[39m.\u001b[39m\u001b[39m__name__\u001b[39m\u001b[39m}\u001b[39;00m\u001b[39m - \u001b[39m\u001b[39m{\u001b[39;00m\u001b[39mfloat\u001b[39m(epsilon)\u001b[39m}\u001b[39;00m\u001b[39m - \u001b[39m\u001b[39m{\u001b[39;00mdataname\u001b[39m}\u001b[39;00m\u001b[39m\"\u001b[39m\n",
      "\u001b[1;31mValueError\u001b[0m: too many values to unpack (expected 2)"
     ]
    }
   ],
   "source": [
    "# Define parameters to be tested\n",
    "params = [\n",
    "    [data, adv_attack, epsilon]\n",
    "    for i, data in enumerate([tf.keras.datasets.mnist.load_data(), tf.keras.datasets.fashion_mnist.load_data(), tf.keras.datasets.cifar10.load_data()])\n",
    "    for adv_attack in [fgsm, ifgsm]\n",
    "    for epsilon in [tf.constant(0.01), tf.constant(0.3) if i<2 else tf.constant(0.06)]\n",
    "]\n",
    "\n",
    "# Loop over parameters\n",
    "results = {}\n",
    "for i, (((X_train, y_train), (X_test, y_test)), adv_attack, epsilon) in enumerate(params):\n",
    "    # Report current iteration\n",
    "    dataname = \"MNIST\" if i < 4 else \"FMNIST\" if i < 8 else \"CIFAR\"\n",
    "    current = f\"{adv_attack.__name__} - {float(epsilon)} - {dataname}\"\n",
    "    print(current)\n",
    "\n",
    "    # Convert data to tf dataset \n",
    "    data_train = color_dataset_from_arrays(X_train, y_train) if dataname==\"CIFAR\" else gray_dataset_from_arrays(X_train, y_train)\n",
    "    data_test = color_dataset_from_arrays(X_test, y_test) if dataname==\"CIFAR\" else gray_dataset_from_arrays(X_test, y_test)\n",
    "\n",
    "    # Train the models and save them\n",
    "    run(data_train, adv_attack, epsilon)\n",
    "\n",
    "    # Load models\n",
    "    with tf.keras.utils.custom_object_scope({\n",
    "        \"block\": block\n",
    "        }):\n",
    "        decoder = tf.keras.models.load_model(\"decoder.keras\")\n",
    "        encoder = tf.keras.models.load_model(\"encoder.keras\")\n",
    "        classifier = tf.keras.models.load_model(\"classifier.keras\")\n",
    "\n",
    "    # Evaluate\n",
    "    accuracies = evaluate(data_test, len(X_train)//BATCH_SIZE, encoder, decoder, classifier, adv_attack, epsilon)\n",
    "\n",
    "    # Save results\n",
    "    results[current] = accuracies\n",
    "    json.dump(results, open(\"results.json\", mode=\"w\"))"
   ]
  }
 ],
 "metadata": {
  "kernelspec": {
   "display_name": "Python 3 (ipykernel)",
   "language": "python",
   "name": "python3"
  },
  "language_info": {
   "codemirror_mode": {
    "name": "ipython",
    "version": 3
   },
   "file_extension": ".py",
   "mimetype": "text/x-python",
   "name": "python",
   "nbconvert_exporter": "python",
   "pygments_lexer": "ipython3",
   "version": "3.9.13"
  }
 },
 "nbformat": 4,
 "nbformat_minor": 2
}
