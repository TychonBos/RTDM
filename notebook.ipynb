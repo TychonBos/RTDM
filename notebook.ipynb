{
 "cells": [
  {
   "cell_type": "code",
   "execution_count": 1,
   "metadata": {},
   "outputs": [
    {
     "name": "stdout",
     "output_type": "stream",
     "text": [
      "WARNING:tensorflow:There are non-GPU devices in `tf.distribute.Strategy`, not using nccl allreduce.\n",
      "INFO:tensorflow:Using MirroredStrategy with devices ('/job:localhost/replica:0/task:0/device:CPU:0',)\n"
     ]
    }
   ],
   "source": [
    "%load_ext autoreload\n",
    "%autoreload 2  \n",
    "import tensorflow as tf\n",
    "from cleverhans.tf2.attacks.fast_gradient_method import fast_gradient_method\n",
    "from cleverhans.tf2.attacks.basic_iterative_method import basic_iterative_method\n",
    "from cleverhans.tf2.attacks.carlini_wagner_l2 import carlini_wagner_l2\n",
    "from utils import to_dataset\n",
    "from models import build_models\n",
    "\n",
    "(x, y), _ = tf.keras.datasets.cifar10.load_data()\n",
    "data = to_dataset(x,y)\n",
    "\n",
    "classifier, ae, *_ = build_models(3, 10)\n",
    "\n",
    "def count_layers(model, name=\"\"):\n",
    "    count = 0\n",
    "    for layer in model.layers:\n",
    "        if hasattr(layer, \"layers\"):\n",
    "            count += count_layers(layer, name=name)\n",
    "        else:\n",
    "            count += name in str(layer.name)\n",
    "    return count"
   ]
  },
  {
   "cell_type": "code",
   "execution_count": 5,
   "metadata": {},
   "outputs": [
    {
     "name": "stdout",
     "output_type": "stream",
     "text": [
      "Model: \"Decoder\"\n",
      "__________________________________________________________________________________________________\n",
      " Layer (type)                   Output Shape         Param #     Connected to                     \n",
      "==================================================================================================\n",
      " LatentInput (InputLayer)       [(None, None, None,  0           []                               \n",
      "                                 256)]                                                            \n",
      "                                                                                                  \n",
      " Upsampler_0 (Sequential)       (None, None, None,   590592      ['LatentInput[0][0]']            \n",
      "                                256)                                                              \n",
      "                                                                                                  \n",
      " Upsampler_1 (Sequential)       (None, None, None,   590592      ['Upsampler_0[0][0]']            \n",
      "                                256)                                                              \n",
      "                                                                                                  \n",
      " Skip_0 (Sequential)            (None, None, None,   66304       ['LatentInput[0][0]']            \n",
      "                                256)                                                              \n",
      "                                                                                                  \n",
      " SumSkips_0 (Add)               (None, None, None,   0           ['Upsampler_1[0][0]',            \n",
      "                                256)                              'Skip_0[0][0]']                 \n",
      "                                                                                                  \n",
      " Upsampler_2 (Sequential)       (None, None, None,   295296      ['SumSkips_0[0][0]']             \n",
      "                                128)                                                              \n",
      "                                                                                                  \n",
      " Upsampler_3 (Sequential)       (None, None, None,   147840      ['Upsampler_2[0][0]']            \n",
      "                                128)                                                              \n",
      "                                                                                                  \n",
      " Skip_1 (Sequential)            (None, None, None,   33152       ['SumSkips_0[0][0]']             \n",
      "                                128)                                                              \n",
      "                                                                                                  \n",
      " SumSkips_1 (Add)               (None, None, None,   0           ['Upsampler_3[0][0]',            \n",
      "                                128)                              'Skip_1[0][0]']                 \n",
      "                                                                                                  \n",
      " Upsampler_4 (Sequential)       (None, None, None,   73920       ['SumSkips_1[0][0]']             \n",
      "                                64)                                                               \n",
      "                                                                                                  \n",
      " Upsampler_5 (Sequential)       (None, None, None,   37056       ['Upsampler_4[0][0]']            \n",
      "                                64)                                                               \n",
      "                                                                                                  \n",
      " Skip_2 (Sequential)            (None, None, None,   8384        ['SumSkips_1[0][0]']             \n",
      "                                64)                                                               \n",
      "                                                                                                  \n",
      " SumSkips_2 (Add)               (None, None, None,   0           ['Upsampler_5[0][0]',            \n",
      "                                64)                               'Skip_2[0][0]']                 \n",
      "                                                                                                  \n",
      " Reduce (Sequential)            (None, None, None,   201         ['SumSkips_2[0][0]']             \n",
      "                                3)                                                                \n",
      "                                                                                                  \n",
      "==================================================================================================\n",
      "Total params: 1,843,337\n",
      "Trainable params: 1,843,337\n",
      "Non-trainable params: 0\n",
      "__________________________________________________________________________________________________\n"
     ]
    }
   ],
   "source": [
    "ae.layers[1].summary()"
   ]
  }
 ],
 "metadata": {
  "kernelspec": {
   "display_name": "base",
   "language": "python",
   "name": "python3"
  },
  "language_info": {
   "codemirror_mode": {
    "name": "ipython",
    "version": 3
   },
   "file_extension": ".py",
   "mimetype": "text/x-python",
   "name": "python",
   "nbconvert_exporter": "python",
   "pygments_lexer": "ipython3",
   "version": "3.9.13"
  }
 },
 "nbformat": 4,
 "nbformat_minor": 2
}
