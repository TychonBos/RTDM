{
 "cells": [
  {
   "cell_type": "code",
   "execution_count": null,
   "metadata": {},
   "outputs": [],
   "source": [
    "# Automatically re-import files when updated\n",
    "%load_ext autoreload\n",
    "%autoreload 2  \n",
    "import time, json, pandas as pd, IPython\n",
    "# Load packages\n",
    "from models import *\n",
    "from utils import *\n",
    "from matplotlib import pyplot as plt"
   ]
  },
  {
   "cell_type": "markdown",
   "metadata": {},
   "source": [
    "# Load models"
   ]
  },
  {
   "cell_type": "code",
   "execution_count": null,
   "metadata": {},
   "outputs": [],
   "source": [
    "# Load models\n",
    "with tf.keras.utils.custom_object_scope({\n",
    "    'Inception': Inception,\n",
    "    \"downsampler\": downsampler,\n",
    "    \"upsampler\": upsampler\n",
    "    }):\n",
    "    decoder = tf.keras.models.load_model(\"decoder.keras\")\n",
    "    encoder = tf.keras.models.load_model(\"encoder.keras\")\n",
    "    classifier = tf.keras.models.load_model(\"classifier.keras\")"
   ]
  },
  {
   "cell_type": "markdown",
   "metadata": {},
   "source": [
    "# Visualize results"
   ]
  },
  {
   "cell_type": "code",
   "execution_count": null,
   "metadata": {},
   "outputs": [],
   "source": [
    "# Get data\n",
    "(X_train, y_train), (X_test, y_test) = tf.keras.datasets.mnist.load_data()\n",
    "# Convert to tf dataset \n",
    "data_train = dataset_from_arrays(X_train, y_train)\n",
    "data_test = dataset_from_arrays(X_test, y_test)\n",
    "\n",
    "# For originals\n",
    "original_predictions = classifier(imgs)\n",
    "# For adversarials\n",
    "adv_imgs = fgsm(classifier, tf.keras.losses.CategoricalCrossentropy(), imgs, labels)\n",
    "adv_predictions = classifier(adv_imgs)\n",
    "# For reconstructions\n",
    "z = encoder(adv_imgs)\n",
    "reconstructed = decoder(z)\n",
    "predictions = classifier(reconstructed)\n",
    "\n",
    "# Plot\n",
    "for (img, orig_pred, adv_img, rec, label, pred, adv_pred) in zip(imgs, original_predictions, adv_imgs, reconstructed, labels, predictions, adv_predictions):\n",
    "    # Clear display\n",
    "    IPython.display.clear_output()\n",
    "    # Create subplots\n",
    "    fig, (ax1, ax2, ax3) = plt.subplots(1, 3)\n",
    "    # Plot the original image\n",
    "    ax1.imshow(img)\n",
    "    ax1.set_title(\"Original image\")\n",
    "    ax1.axis(\"off\")\n",
    "    # Plot the original image\n",
    "    ax2.imshow(adv_img)\n",
    "    ax2.set_title(\"Adversarial example\")\n",
    "    ax2.axis(\"off\")\n",
    "    # Plot the reconstructed image\n",
    "    ax3.imshow(rec)\n",
    "    ax3.set_title(\"Reconstructed image\")\n",
    "    ax3.axis(\"off\")\n",
    "    # Add context\n",
    "    print(f\"True label: {tf.math.argmax(label).numpy()}\\\n",
    "        \\npredicted label on original image: {tf.math.argmax(orig_pred).numpy()}\\\n",
    "        \\nPredicted label on adversarial example: {tf.math.argmax(adv_pred).numpy()}\\\n",
    "        \\nPredicted label on reconstructed image: {tf.math.argmax(pred).numpy()}\")\n",
    "    # Show for some time\n",
    "    plt.show()\n",
    "    time.sleep(2)"
   ]
  },
  {
   "cell_type": "markdown",
   "metadata": {},
   "source": [
    "# Training progress"
   ]
  },
  {
   "cell_type": "code",
   "execution_count": null,
   "metadata": {},
   "outputs": [],
   "source": [
    "# Plot training progress\n",
    "history = json.load(open(\"history.json\", mode=\"r\"))\n",
    "history = pd.DataFrame.from_dict(history, orient=\"index\")\n",
    "history[\"classifier_loss\"].plot();\n",
    "history[\"ae_loss\"].plot(secondary_y=True);\n",
    "plt.legend();"
   ]
  },
  {
   "cell_type": "markdown",
   "metadata": {},
   "source": [
    "# Plot models"
   ]
  },
  {
   "cell_type": "code",
   "execution_count": null,
   "metadata": {},
   "outputs": [],
   "source": [
    "# Plot models\n",
    "tf.keras.utils.plot_model(encoder, show_layer_names=False, to_file=\"encoder.png\");\n",
    "conv = downsampler(1, 6, 1, 1)\n",
    "conv.build((1,*INPUT_SHAPE))\n",
    "tf.keras.utils.plot_model(conv, show_layer_names=False, to_file=\"downsampler.png\");\n",
    "inception = Inception(2)\n",
    "inception.build((1,*INPUT_SHAPE))\n",
    "tf.keras.utils.plot_model(inception, show_layer_names=False, to_file=\"inception.png\", expand_nested=True);"
   ]
  }
 ],
 "metadata": {
  "language_info": {
   "name": "python"
  }
 },
 "nbformat": 4,
 "nbformat_minor": 2
}
