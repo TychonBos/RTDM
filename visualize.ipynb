{
 "cells": [
  {
   "cell_type": "code",
   "execution_count": 1,
   "metadata": {},
   "outputs": [],
   "source": [
    "# FIX THIS NOTEBOOK\n",
    "\n",
    "# Automatically re-import files when updated\n",
    "%load_ext autoreload\n",
    "%autoreload 2  \n",
    "import time, json, pandas as pd, IPython\n",
    "# Load packages\n",
    "from models import *\n",
    "from utils import *\n",
    "from matplotlib import pyplot as plt"
   ]
  },
  {
   "cell_type": "markdown",
   "metadata": {},
   "source": [
    "# Load models"
   ]
  },
  {
   "cell_type": "code",
   "execution_count": 2,
   "metadata": {},
   "outputs": [
    {
     "name": "stdout",
     "output_type": "stream",
     "text": [
      "WARNING:tensorflow:Mixed precision compatibility check (mixed_float16): WARNING\n",
      "The dtype policy mixed_float16 may run slowly because this machine does not have a GPU. Only Nvidia GPUs with compute capability of at least 7.0 run quickly with mixed_float16.\n",
      "If you will use compatible GPU(s) not attached to this host, e.g. by running a multi-worker model, you can ignore this warning. This message will only be logged once\n",
      "WARNING:tensorflow:No training configuration found in the save file, so the model was *not* compiled. Compile it manually.\n",
      "WARNING:tensorflow:No training configuration found in the save file, so the model was *not* compiled. Compile it manually.\n",
      "WARNING:tensorflow:No training configuration found in the save file, so the model was *not* compiled. Compile it manually.\n"
     ]
    }
   ],
   "source": [
    "# Load models\n",
    "with tf.keras.utils.custom_object_scope({\n",
    "    'Inception': Inception,\n",
    "    \"downsampler\": downsampler,\n",
    "    \"upsampler\": upsampler\n",
    "    }):\n",
    "    decoder = tf.keras.models.load_model(\"decoder.keras\")\n",
    "    encoder = tf.keras.models.load_model(\"encoder.keras\")\n",
    "    classifier = tf.keras.models.load_model(\"classifier.keras\")"
   ]
  },
  {
   "cell_type": "markdown",
   "metadata": {},
   "source": [
    "# Visualize results"
   ]
  },
  {
   "cell_type": "code",
   "execution_count": null,
   "metadata": {},
   "outputs": [],
   "source": [
    "# Get data\n",
    "(X_train, y_train), (X_test, y_test) = tf.keras.datasets.cifar10.load_data()\n",
    "# Convert to tf dataset \n",
    "data_train = color_dataset_from_arrays(X_train, y_train)\n",
    "data_test = color_dataset_from_arrays(X_test, y_test)\n",
    "\n",
    "# Split\n",
    "imgs, labels = list(data_test.take(1))[0]\n",
    "# For originals\n",
    "original_predictions = classifier(imgs)\n",
    "# For adversarials\n",
    "adv_imgs = fgsm(classifier, tf.keras.losses.CategoricalCrossentropy(), imgs, labels, tf.constant(0.01))\n",
    "adv_predictions = classifier(adv_imgs)\n",
    "# For reconstructions\n",
    "z = encoder(adv_imgs)\n",
    "reconstructed = decoder(z)\n",
    "predictions = classifier(reconstructed)\n",
    "\n",
    "# Plot\n",
    "for (img, orig_pred, adv_img, rec, label, pred, adv_pred) in zip(imgs, original_predictions, adv_imgs, reconstructed, labels, predictions, adv_predictions):\n",
    "    # Clear display\n",
    "    IPython.display.clear_output()\n",
    "    # Create subplots\n",
    "    fig, (ax1, ax2, ax3) = plt.subplots(1, 3)\n",
    "    # Plot the original image\n",
    "    ax1.imshow(img)\n",
    "    ax1.set_title(\"Original image\")\n",
    "    ax1.axis(\"off\")\n",
    "    # Plot the original image\n",
    "    ax2.imshow(adv_img)\n",
    "    ax2.set_title(\"Adversarial example\")\n",
    "    ax2.axis(\"off\")\n",
    "    # Plot the reconstructed image\n",
    "    ax3.imshow(rec)\n",
    "    ax3.set_title(\"Reconstructed image\")\n",
    "    ax3.axis(\"off\")\n",
    "    # Add context\n",
    "    print(f\"True label: {tf.math.argmax(label).numpy()}\\\n",
    "        \\npredicted label on original image: {tf.math.argmax(orig_pred).numpy()}\\\n",
    "        \\nPredicted label on adversarial example: {tf.math.argmax(adv_pred).numpy()}\\\n",
    "        \\nPredicted label on reconstructed image: {tf.math.argmax(pred).numpy()}\")\n",
    "    # Show for some time\n",
    "    plt.show()\n",
    "    time.sleep(2)"
   ]
  },
  {
   "cell_type": "markdown",
   "metadata": {},
   "source": [
    "# Training progress"
   ]
  },
  {
   "cell_type": "code",
   "execution_count": null,
   "metadata": {},
   "outputs": [],
   "source": [
    "# Plot training progress\n",
    "history = json.load(open(\"history.json\", mode=\"r\"))\n",
    "history = pd.DataFrame.from_dict(history, orient=\"index\")\n",
    "history[\"classifier_loss\"].plot();\n",
    "history[\"ae_loss\"].plot(secondary_y=True);\n",
    "plt.legend();"
   ]
  },
  {
   "cell_type": "markdown",
   "metadata": {},
   "source": [
    "# Plot models"
   ]
  },
  {
   "cell_type": "code",
   "execution_count": 5,
   "metadata": {},
   "outputs": [],
   "source": [
    "# Plot models (inception done manually)\n",
    "tf.keras.utils.plot_model(encoder, show_layer_names=False, to_file=\"encoder.png\");\n",
    "block = downsampler(1, 6, 1, 1)\n",
    "block.build((BATCH_SIZE, None, None, 3))\n",
    "tf.keras.utils.plot_model(block, show_layer_names=False, to_file=\"downsampler.png\");"
   ]
  }
 ],
 "metadata": {
  "kernelspec": {
   "display_name": "Python 3 (ipykernel)",
   "language": "python",
   "name": "python3"
  },
  "language_info": {
   "codemirror_mode": {
    "name": "ipython",
    "version": 3
   },
   "file_extension": ".py",
   "mimetype": "text/x-python",
   "name": "python",
   "nbconvert_exporter": "python",
   "pygments_lexer": "ipython3",
   "version": "3.9.13"
  }
 },
 "nbformat": 4,
 "nbformat_minor": 2
}
