{
 "cells": [
  {
   "cell_type": "code",
   "execution_count": null,
   "metadata": {},
   "outputs": [],
   "source": [
    "# Automatically re-import files when updated\n",
    "%load_ext autoreload\n",
    "%autoreload 2  \n",
    "%conda install pandas matplotlib\n",
    "import time, json, pandas as pd, IPython, tensorflow as tf\n",
    "# Load packages\n",
    "from models import block, BATCH_SIZE\n",
    "from utils import to_dataset, fgsm\n",
    "from matplotlib import pyplot as plt"
   ]
  },
  {
   "cell_type": "markdown",
   "metadata": {},
   "source": [
    "# Load models"
   ]
  },
  {
   "cell_type": "code",
   "execution_count": null,
   "metadata": {},
   "outputs": [],
   "source": [
    "# Load models\n",
    "with tf.keras.utils.custom_object_scope({\n",
    "    \"block\": block\n",
    "    }):\n",
    "    decoder = tf.keras.models.load_model(\"decoder.keras\")\n",
    "    encoder = tf.keras.models.load_model(\"encoder.keras\")\n",
    "    classifier = tf.keras.models.load_model(\"classifier.keras\")"
   ]
  },
  {
   "cell_type": "markdown",
   "metadata": {},
   "source": [
    "# Visualize results"
   ]
  },
  {
   "cell_type": "code",
   "execution_count": null,
   "metadata": {},
   "outputs": [],
   "source": [
    "# Get data\n",
    "_, (X_test, y_test) = tf.keras.datasets.fashion_mnist.load_data()\n",
    "# Convert to tf dataset \n",
    "data_test = to_dataset(X_test, y_test)\n",
    "\n",
    "# Split\n",
    "imgs, labels = list(data_test.take(1))[0]\n",
    "# For originals\n",
    "original_predictions = classifier(imgs, training=False)\n",
    "# For adversarials\n",
    "adv_imgs = fgsm(classifier, imgs, 0.06)\n",
    "adv_predictions = classifier(adv_imgs, training=False)\n",
    "# For reconstructions\n",
    "z = encoder(adv_imgs, training=False)\n",
    "reconstructed = decoder(z, training=False)\n",
    "predictions = classifier(reconstructed, training=False)\n",
    "\n",
    "# Plot\n",
    "for (img, orig_pred, adv_img, rec, label, pred, adv_pred) in zip(imgs, original_predictions, adv_imgs, reconstructed, labels, predictions, adv_predictions):\n",
    "    # Clear display\n",
    "    IPython.display.clear_output()\n",
    "    # Create subplots\n",
    "    fig, (ax1, ax2, ax3) = plt.subplots(1, 3)\n",
    "    # Plot the original image\n",
    "    ax1.imshow(img)\n",
    "    ax1.set_title(\"Original image\")\n",
    "    ax1.axis(\"off\")\n",
    "    # Plot the original image\n",
    "    ax2.imshow(adv_img)\n",
    "    ax2.set_title(\"Adversarial example\")\n",
    "    ax2.axis(\"off\")\n",
    "    # Plot the reconstructed image\n",
    "    ax3.imshow(rec)\n",
    "    ax3.set_title(\"Reconstructed image\")\n",
    "    ax3.axis(\"off\")\n",
    "    # Add context\n",
    "    print(f\"True label: {tf.math.argmax(label).numpy()}\\\n",
    "        \\npredicted label on original image: {tf.math.argmax(orig_pred).numpy()}\\\n",
    "        \\nPredicted label on adversarial example: {tf.math.argmax(adv_pred).numpy()}\\\n",
    "        \\nPredicted label on reconstructed image: {tf.math.argmax(pred).numpy()}\")\n",
    "    # Show for some time\n",
    "    plt.show()\n",
    "    time.sleep(2)"
   ]
  },
  {
   "cell_type": "markdown",
   "metadata": {},
   "source": [
    "# Training progress"
   ]
  },
  {
   "cell_type": "code",
   "execution_count": null,
   "metadata": {},
   "outputs": [],
   "source": [
    "# Plot training progress\n",
    "history = json.load(open(\"history.json\", mode=\"r\"))\n",
    "history = pd.DataFrame.from_dict(history, orient=\"index\")\n",
    "plt.yscale(\"log\");\n",
    "history[\"classifier_loss\"].plot();\n",
    "history[\"ae_loss\"].plot(secondary_y=True);\n",
    "plt.legend();"
   ]
  },
  {
   "cell_type": "markdown",
   "metadata": {},
   "source": [
    "# Plot models"
   ]
  },
  {
   "cell_type": "code",
   "execution_count": null,
   "metadata": {},
   "outputs": [],
   "source": [
    "# Plot models (inception done manually)\n",
    "tf.keras.utils.plot_model(encoder, show_layer_names=False, to_file=\"encoder.png\");\n",
    "block = block(1, 3, 1)\n",
    "block.build((BATCH_SIZE, None, None, 3))\n",
    "tf.keras.utils.plot_model(block, show_layer_names=False, to_file=\"downsampler.png\");"
   ]
  }
 ],
 "metadata": {
  "kernelspec": {
   "display_name": "Python 3 (ipykernel)",
   "language": "python",
   "name": "python3"
  },
  "language_info": {
   "codemirror_mode": {
    "name": "ipython",
    "version": 3
   },
   "file_extension": ".py",
   "mimetype": "text/x-python",
   "name": "python",
   "nbconvert_exporter": "python",
   "pygments_lexer": "ipython3",
   "version": "3.12.3"
  }
 },
 "nbformat": 4,
 "nbformat_minor": 2
}
