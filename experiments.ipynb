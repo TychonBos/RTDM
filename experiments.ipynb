{
 "cells": [
  {
   "cell_type": "markdown",
   "metadata": {},
   "source": [
    "# Use this notebook for experimentation"
   ]
  },
  {
   "cell_type": "code",
   "execution_count": null,
   "metadata": {},
   "outputs": [],
   "source": [
    "# Automatically re-import files when updated\n",
    "%load_ext autoreload\n",
    "%autoreload 2  \n",
    "# Load packages\n",
    "from models import *\n",
    "from utils import *\n",
    "from matplotlib import pyplot as plt\n",
    "import time, json, pandas as pd, IPython"
   ]
  },
  {
   "cell_type": "code",
   "execution_count": null,
   "metadata": {},
   "outputs": [],
   "source": [
    "# Get data\n",
    "(X_train, y_train), (X_test, y_test) = tf.keras.datasets.mnist.load_data()\n",
    "# Convert to tf dataset \n",
    "data_train = dataset_from_arrays(X_train, y_train)\n",
    "data_test= dataset_from_arrays(X_test, y_test)"
   ]
  },
  {
   "cell_type": "code",
   "execution_count": null,
   "metadata": {},
   "outputs": [],
   "source": [
    "# Load models\n",
    "with tf.keras.utils.custom_object_scope({\n",
    "    'Inception': Inception,\n",
    "    \"downsampler\": downsampler,\n",
    "    \"upsampler\": upsampler\n",
    "    }):\n",
    "    decoder = tf.keras.models.load_model(\"decoder.keras\")\n",
    "    encoder = tf.keras.models.load_model(\"encoder.keras\")\n",
    "    classifier = tf.keras.models.load_model(\"classifier.keras\")"
   ]
  },
  {
   "cell_type": "code",
   "execution_count": null,
   "metadata": {},
   "outputs": [],
   "source": [
    "# Predict\n",
    "imgs, labels = list(data_train.take(1))[0]\n",
    "adv_imgs = fgsm(classifier, tf.keras.losses.CategoricalCrossentropy(), imgs, labels)\n",
    "adv_predictions = classifier(adv_imgs)\n",
    "z = encoder(adv_imgs)\n",
    "reconstructed = decoder(z)\n",
    "predictions = classifier(reconstructed)\n",
    "\n",
    "# Plot\n",
    "for (adv_img, rec, label, pred, adv_pred) in zip(adv_imgs, reconstructed, labels, predictions, adv_predictions):\n",
    "    # Clear display\n",
    "    IPython.display.clear_output()\n",
    "    # Create subplots\n",
    "    fig, (ax1, ax2) = plt.subplots(1, 2)\n",
    "    # Plot the original image\n",
    "    ax1.imshow(adv_img)\n",
    "    ax1.set_title(\"Original Image\")\n",
    "    ax1.axis('off')\n",
    "    # Plot the reconstructed image\n",
    "    ax2.imshow(rec)\n",
    "    ax2.set_title(\"Reconstructed Image\")\n",
    "    ax2.axis('off')\n",
    "    plt.show()\n",
    "    # Add context\n",
    "    print(f\"True label: {tf.math.argmax(label).numpy()}\\\n",
    "          \\nPredicted label on processed image: {tf.math.argmax(pred).numpy()}\\\n",
    "          \\nPredicted label on adversarial example: {tf.math.argmax(adv_pred).numpy()}\")\n",
    "    # Show for some time\n",
    "    time.sleep(2)"
   ]
  },
  {
   "cell_type": "code",
   "execution_count": null,
   "metadata": {},
   "outputs": [],
   "source": [
    "# Plot training progress\n",
    "history = json.load(open(\"history.json\", mode=\"r\"))\n",
    "pd.DataFrame.from_dict(history, orient=\"index\").plot();"
   ]
  }
 ],
 "metadata": {
  "kernelspec": {
   "display_name": "base",
   "language": "python",
   "name": "python3"
  },
  "language_info": {
   "codemirror_mode": {
    "name": "ipython",
    "version": 3
   },
   "file_extension": ".py",
   "mimetype": "text/x-python",
   "name": "python",
   "nbconvert_exporter": "python",
   "pygments_lexer": "ipython3",
   "version": "3.9.13"
  },
  "orig_nbformat": 4
 },
 "nbformat": 4,
 "nbformat_minor": 2
}
